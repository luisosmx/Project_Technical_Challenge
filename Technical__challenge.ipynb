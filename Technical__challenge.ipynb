{
  "nbformat": 4,
  "nbformat_minor": 0,
  "metadata": {
    "colab": {
      "provenance": [],
      "authorship_tag": "ABX9TyPrjiTFxwoq/Sj60D2AnMgE",
      "include_colab_link": true
    },
    "kernelspec": {
      "name": "python3",
      "display_name": "Python 3"
    },
    "language_info": {
      "name": "python"
    }
  },
  "cells": [
    {
      "cell_type": "markdown",
      "metadata": {
        "id": "view-in-github",
        "colab_type": "text"
      },
      "source": [
        "<a href=\"https://colab.research.google.com/github/luisosmx/Project_Technical_Challenge/blob/main/Technical__challenge.ipynb\" target=\"_parent\"><img src=\"https://colab.research.google.com/assets/colab-badge.svg\" alt=\"Open In Colab\"/></a>"
      ]
    },
    {
      "cell_type": "markdown",
      "source": [
        "#Import dependencies\n",
        "\n",
        "\n"
      ],
      "metadata": {
        "id": "PCyyqiBTtllw"
      }
    },
    {
      "cell_type": "code",
      "execution_count": 1,
      "metadata": {
        "id": "yFaWWX6JfWdB"
      },
      "outputs": [],
      "source": [
        "# Common imports\n",
        "import numpy as np\n",
        "import os\n",
        "\n",
        "# Parquet imports\n",
        "import pyarrow as pa\n",
        "import pyarrow.parquet as pq\n",
        "\n",
        "# To plot pretty figures\n",
        "%matplotlib inline\n",
        "import matplotlib as mpl\n",
        "import matplotlib.pyplot as plt\n",
        "mpl.rc('axes', labelsize=14)\n",
        "mpl.rc('xtick', labelsize=12)\n",
        "mpl.rc('ytick', labelsize=12)\n",
        "\n",
        "\n",
        "import pandas as pd\n",
        "import seaborn as sns\n",
        "import warnings\n",
        "warnings.simplefilter(action='ignore', category=FutureWarning)"
      ]
    },
    {
      "cell_type": "markdown",
      "source": [
        "#Processing sample data\n",
        "\n",
        "##Getting sample data\n",
        "\n"
      ],
      "metadata": {
        "id": "GiCk9_e1uYS1"
      }
    },
    {
      "cell_type": "code",
      "source": [
        "!wget https://ai2-semanticscholar-cord-19.s3-us-west-2.amazonaws.com/historical_releases/cord-19_2022-06-02.tar.gz"
      ],
      "metadata": {
        "colab": {
          "base_uri": "https://localhost:8080/"
        },
        "id": "yNvyK9g8fdu-",
        "outputId": "7dd84a61-4b69-4170-e22f-08517d2be486"
      },
      "execution_count": 2,
      "outputs": [
        {
          "output_type": "stream",
          "name": "stdout",
          "text": [
            "--2023-08-17 15:10:43--  https://ai2-semanticscholar-cord-19.s3-us-west-2.amazonaws.com/historical_releases/cord-19_2022-06-02.tar.gz\n",
            "Resolving ai2-semanticscholar-cord-19.s3-us-west-2.amazonaws.com (ai2-semanticscholar-cord-19.s3-us-west-2.amazonaws.com)... 3.5.83.20, 52.92.176.18, 52.92.164.18, ...\n",
            "Connecting to ai2-semanticscholar-cord-19.s3-us-west-2.amazonaws.com (ai2-semanticscholar-cord-19.s3-us-west-2.amazonaws.com)|3.5.83.20|:443... connected.\n",
            "HTTP request sent, awaiting response... 200 OK\n",
            "Length: 18657952487 (17G) [binary/octet-stream]\n",
            "Saving to: ‘cord-19_2022-06-02.tar.gz’\n",
            "\n",
            "cord-19_2022-06-02. 100%[===================>]  17.38G  29.5MB/s    in 11m 31s \n",
            "\n",
            "2023-08-17 15:22:14 (25.8 MB/s) - ‘cord-19_2022-06-02.tar.gz’ saved [18657952487/18657952487]\n",
            "\n"
          ]
        }
      ]
    },
    {
      "cell_type": "code",
      "source": [],
      "metadata": {
        "id": "dzU0hTjU5xxy"
      },
      "execution_count": null,
      "outputs": []
    },
    {
      "cell_type": "markdown",
      "source": [
        "#Exploratory analysis for sample data\n"
      ],
      "metadata": {
        "id": "2oBXbNZLuoEu"
      }
    },
    {
      "cell_type": "code",
      "source": [
        "import tarfile\n",
        "\n",
        "\n",
        "tar = tarfile.open('cord-19_2022-06-02.tar.gz', 'r:gz')\n",
        "tar.extractall()\n",
        "tar.close()"
      ],
      "metadata": {
        "id": "GCp52fJUgsMX"
      },
      "execution_count": 3,
      "outputs": []
    },
    {
      "cell_type": "code",
      "source": [
        "df = pd.read_csv('/content/2022-06-02/metadata.csv')\n",
        "df.head(10)\n"
      ],
      "metadata": {
        "colab": {
          "base_uri": "https://localhost:8080/",
          "height": 1000
        },
        "id": "KChn8sO6t0PL",
        "outputId": "d05cde21-6780-4bc7-d066-8e6c957c1735"
      },
      "execution_count": 4,
      "outputs": [
        {
          "output_type": "stream",
          "name": "stderr",
          "text": [
            "<ipython-input-4-466e11502b97>:1: DtypeWarning: Columns (1,4,5,6,13,14,15,16) have mixed types. Specify dtype option on import or set low_memory=False.\n",
            "  df = pd.read_csv('/content/2022-06-02/metadata.csv')\n"
          ]
        },
        {
          "output_type": "execute_result",
          "data": {
            "text/plain": [
              "   cord_uid                                       sha source_x  \\\n",
              "0  ug7v899j  d1aafb70c066a2068b02786f8929fd9c900897fb      PMC   \n",
              "1  02tnwd4m  6b0567729c2143a66d737eb0a2f63f2dce2e5a7d      PMC   \n",
              "2  ejv2xln0  06ced00a5fc04215949aa72528f2eeaae1d58927      PMC   \n",
              "3  2b73a28n  348055649b6b8cf2b9a376498df9bf41f7123605      PMC   \n",
              "4  9785vg6d  5f48792a5fa08bed9f56016f4981ae2ca6031b32      PMC   \n",
              "5  zjufx4fo  b2897e1277f56641193a6db73825f707eed3e4c9      PMC   \n",
              "6  5yhe786e  3bb07ea10432f7738413dff9816809cc90f03f99      PMC   \n",
              "7  8zchiykl  5806726a24dc91de3954001effbdffd7a82d54e2      PMC   \n",
              "8  8qnrcgnk  faaf1022ccfe93b032c5608097a53543ba24aedb      PMC   \n",
              "9  jg13scgo  5b44feca5d6ffaaeb66501fa84cc6dd44d06660a      PMC   \n",
              "\n",
              "                                               title  \\\n",
              "0  Clinical features of culture-proven Mycoplasma...   \n",
              "1  Nitric oxide: a pro-inflammatory mediator in l...   \n",
              "2    Surfactant protein-D and pulmonary host defense   \n",
              "3               Role of endothelin-1 in lung disease   \n",
              "4  Gene expression in epithelial cells in respons...   \n",
              "5  Sequence requirements for RNA strand transfer ...   \n",
              "6  Debate: Transfusing to normal haemoglobin leve...   \n",
              "7  The 21st International Symposium on Intensive ...   \n",
              "8  Heme oxygenase-1 and carbon monoxide in pulmon...   \n",
              "9  Technical Description of RODS: A Real-time Pub...   \n",
              "\n",
              "                        doi      pmcid pubmed_id    license  \\\n",
              "0     10.1186/1471-2334-1-6   PMC35282  11472636      no-cc   \n",
              "1              10.1186/rr14   PMC59543  11667967      no-cc   \n",
              "2              10.1186/rr19   PMC59549  11667972      no-cc   \n",
              "3              10.1186/rr44   PMC59574  11686871      no-cc   \n",
              "4              10.1186/rr61   PMC59580  11686888      no-cc   \n",
              "5  10.1093/emboj/20.24.7220  PMC125340  11742998   green-oa   \n",
              "6             10.1186/cc987  PMC137267  11299062      no-cc   \n",
              "7            10.1186/cc1013  PMC137274  11353930      no-cc   \n",
              "8     10.1186/1465-9921-4-7  PMC193681  12964953      no-cc   \n",
              "9       10.1197/jamia.m1345  PMC212776  12807803  bronze-oa   \n",
              "\n",
              "                                            abstract publish_time  \\\n",
              "0  OBJECTIVE: This retrospective chart review des...   2001-07-04   \n",
              "1  Inflammatory diseases of the respiratory tract...   2000-08-15   \n",
              "2  Surfactant protein-D (SP-D) participates in th...   2000-08-25   \n",
              "3  Endothelin-1 (ET-1) is a 21 amino acid peptide...   2001-02-22   \n",
              "4  Respiratory syncytial virus (RSV) and pneumoni...   2001-05-11   \n",
              "5  Nidovirus subgenomic mRNAs contain a leader se...   2001-12-17   \n",
              "6  Recent evidence suggests that critically ill p...   2001-03-08   \n",
              "7  The 21st International Symposium on Intensive ...   2001-05-02   \n",
              "8  Heme oxygenase-1 (HO-1), an inducible stress p...   2003-08-07   \n",
              "9  This report describes the design and implement...   2003-09-01   \n",
              "\n",
              "                                             authors  \\\n",
              "0                Madani, Tariq A; Al-Ghamdi, Aisha A   \n",
              "1  Vliet, Albert van der; Eiserich, Jason P; Cros...   \n",
              "2                                    Crouch, Erika C   \n",
              "3  Fagan, Karen A; McMurtry, Ivan F; Rodman, David M   \n",
              "4  Domachowske, Joseph B; Bonville, Cynthia A; Ro...   \n",
              "5  Pasternak, Alexander O.; van den Born, Erwin; ...   \n",
              "6    Alvarez, Gonzalo; Hébert, Paul C; Szick, Sharyn   \n",
              "7                      Ball, Jonathan; Venn, Richard   \n",
              "8  Slebos, Dirk-Jan; Ryter, Stefan W; Choi, Augus...   \n",
              "9  Tsui, Fu-Chiang; Espino, Jeremy U.; Dato, Virg...   \n",
              "\n",
              "                                             journal  mag_id who_covidence_id  \\\n",
              "0                                     BMC Infect Dis     NaN              NaN   \n",
              "1                                         Respir Res     NaN              NaN   \n",
              "2                                         Respir Res     NaN              NaN   \n",
              "3                                         Respir Res     NaN              NaN   \n",
              "4                                         Respir Res     NaN              NaN   \n",
              "5                                   The EMBO Journal     NaN              NaN   \n",
              "6                                          Crit Care     NaN              NaN   \n",
              "7                                          Crit Care     NaN              NaN   \n",
              "8                                         Respir Res     NaN              NaN   \n",
              "9  Journal of the American Medical Informatics As...     NaN              NaN   \n",
              "\n",
              "  arxiv_id                                     pdf_json_files  \\\n",
              "0      NaN  document_parses/pdf_json/d1aafb70c066a2068b027...   \n",
              "1      NaN  document_parses/pdf_json/6b0567729c2143a66d737...   \n",
              "2      NaN  document_parses/pdf_json/06ced00a5fc04215949aa...   \n",
              "3      NaN  document_parses/pdf_json/348055649b6b8cf2b9a37...   \n",
              "4      NaN  document_parses/pdf_json/5f48792a5fa08bed9f560...   \n",
              "5      NaN  document_parses/pdf_json/b2897e1277f56641193a6...   \n",
              "6      NaN  document_parses/pdf_json/3bb07ea10432f7738413d...   \n",
              "7      NaN  document_parses/pdf_json/5806726a24dc91de39540...   \n",
              "8      NaN  document_parses/pdf_json/faaf1022ccfe93b032c56...   \n",
              "9      NaN  document_parses/pdf_json/5b44feca5d6ffaaeb6650...   \n",
              "\n",
              "                                pmc_json_files  \\\n",
              "0   document_parses/pmc_json/PMC35282.xml.json   \n",
              "1   document_parses/pmc_json/PMC59543.xml.json   \n",
              "2   document_parses/pmc_json/PMC59549.xml.json   \n",
              "3   document_parses/pmc_json/PMC59574.xml.json   \n",
              "4   document_parses/pmc_json/PMC59580.xml.json   \n",
              "5  document_parses/pmc_json/PMC125340.xml.json   \n",
              "6  document_parses/pmc_json/PMC137267.xml.json   \n",
              "7  document_parses/pmc_json/PMC137274.xml.json   \n",
              "8  document_parses/pmc_json/PMC193681.xml.json   \n",
              "9  document_parses/pmc_json/PMC212776.xml.json   \n",
              "\n",
              "                                                 url  s2_id  \n",
              "0  https://www.ncbi.nlm.nih.gov/pmc/articles/PMC3...    NaN  \n",
              "1  https://www.ncbi.nlm.nih.gov/pmc/articles/PMC5...    NaN  \n",
              "2  https://www.ncbi.nlm.nih.gov/pmc/articles/PMC5...    NaN  \n",
              "3  https://www.ncbi.nlm.nih.gov/pmc/articles/PMC5...    NaN  \n",
              "4  https://www.ncbi.nlm.nih.gov/pmc/articles/PMC5...    NaN  \n",
              "5  http://europepmc.org/articles/pmc125340?pdf=re...    NaN  \n",
              "6  https://www.ncbi.nlm.nih.gov/pmc/articles/PMC1...    NaN  \n",
              "7  https://www.ncbi.nlm.nih.gov/pmc/articles/PMC1...    NaN  \n",
              "8  https://www.ncbi.nlm.nih.gov/pmc/articles/PMC1...    NaN  \n",
              "9  https://academic.oup.com/jamia/article-pdf/10/...    NaN  "
            ],
            "text/html": [
              "\n",
              "\n",
              "  <div id=\"df-4bc00193-769b-42f0-a184-cc3db4a781b7\">\n",
              "    <div class=\"colab-df-container\">\n",
              "      <div>\n",
              "<style scoped>\n",
              "    .dataframe tbody tr th:only-of-type {\n",
              "        vertical-align: middle;\n",
              "    }\n",
              "\n",
              "    .dataframe tbody tr th {\n",
              "        vertical-align: top;\n",
              "    }\n",
              "\n",
              "    .dataframe thead th {\n",
              "        text-align: right;\n",
              "    }\n",
              "</style>\n",
              "<table border=\"1\" class=\"dataframe\">\n",
              "  <thead>\n",
              "    <tr style=\"text-align: right;\">\n",
              "      <th></th>\n",
              "      <th>cord_uid</th>\n",
              "      <th>sha</th>\n",
              "      <th>source_x</th>\n",
              "      <th>title</th>\n",
              "      <th>doi</th>\n",
              "      <th>pmcid</th>\n",
              "      <th>pubmed_id</th>\n",
              "      <th>license</th>\n",
              "      <th>abstract</th>\n",
              "      <th>publish_time</th>\n",
              "      <th>authors</th>\n",
              "      <th>journal</th>\n",
              "      <th>mag_id</th>\n",
              "      <th>who_covidence_id</th>\n",
              "      <th>arxiv_id</th>\n",
              "      <th>pdf_json_files</th>\n",
              "      <th>pmc_json_files</th>\n",
              "      <th>url</th>\n",
              "      <th>s2_id</th>\n",
              "    </tr>\n",
              "  </thead>\n",
              "  <tbody>\n",
              "    <tr>\n",
              "      <th>0</th>\n",
              "      <td>ug7v899j</td>\n",
              "      <td>d1aafb70c066a2068b02786f8929fd9c900897fb</td>\n",
              "      <td>PMC</td>\n",
              "      <td>Clinical features of culture-proven Mycoplasma...</td>\n",
              "      <td>10.1186/1471-2334-1-6</td>\n",
              "      <td>PMC35282</td>\n",
              "      <td>11472636</td>\n",
              "      <td>no-cc</td>\n",
              "      <td>OBJECTIVE: This retrospective chart review des...</td>\n",
              "      <td>2001-07-04</td>\n",
              "      <td>Madani, Tariq A; Al-Ghamdi, Aisha A</td>\n",
              "      <td>BMC Infect Dis</td>\n",
              "      <td>NaN</td>\n",
              "      <td>NaN</td>\n",
              "      <td>NaN</td>\n",
              "      <td>document_parses/pdf_json/d1aafb70c066a2068b027...</td>\n",
              "      <td>document_parses/pmc_json/PMC35282.xml.json</td>\n",
              "      <td>https://www.ncbi.nlm.nih.gov/pmc/articles/PMC3...</td>\n",
              "      <td>NaN</td>\n",
              "    </tr>\n",
              "    <tr>\n",
              "      <th>1</th>\n",
              "      <td>02tnwd4m</td>\n",
              "      <td>6b0567729c2143a66d737eb0a2f63f2dce2e5a7d</td>\n",
              "      <td>PMC</td>\n",
              "      <td>Nitric oxide: a pro-inflammatory mediator in l...</td>\n",
              "      <td>10.1186/rr14</td>\n",
              "      <td>PMC59543</td>\n",
              "      <td>11667967</td>\n",
              "      <td>no-cc</td>\n",
              "      <td>Inflammatory diseases of the respiratory tract...</td>\n",
              "      <td>2000-08-15</td>\n",
              "      <td>Vliet, Albert van der; Eiserich, Jason P; Cros...</td>\n",
              "      <td>Respir Res</td>\n",
              "      <td>NaN</td>\n",
              "      <td>NaN</td>\n",
              "      <td>NaN</td>\n",
              "      <td>document_parses/pdf_json/6b0567729c2143a66d737...</td>\n",
              "      <td>document_parses/pmc_json/PMC59543.xml.json</td>\n",
              "      <td>https://www.ncbi.nlm.nih.gov/pmc/articles/PMC5...</td>\n",
              "      <td>NaN</td>\n",
              "    </tr>\n",
              "    <tr>\n",
              "      <th>2</th>\n",
              "      <td>ejv2xln0</td>\n",
              "      <td>06ced00a5fc04215949aa72528f2eeaae1d58927</td>\n",
              "      <td>PMC</td>\n",
              "      <td>Surfactant protein-D and pulmonary host defense</td>\n",
              "      <td>10.1186/rr19</td>\n",
              "      <td>PMC59549</td>\n",
              "      <td>11667972</td>\n",
              "      <td>no-cc</td>\n",
              "      <td>Surfactant protein-D (SP-D) participates in th...</td>\n",
              "      <td>2000-08-25</td>\n",
              "      <td>Crouch, Erika C</td>\n",
              "      <td>Respir Res</td>\n",
              "      <td>NaN</td>\n",
              "      <td>NaN</td>\n",
              "      <td>NaN</td>\n",
              "      <td>document_parses/pdf_json/06ced00a5fc04215949aa...</td>\n",
              "      <td>document_parses/pmc_json/PMC59549.xml.json</td>\n",
              "      <td>https://www.ncbi.nlm.nih.gov/pmc/articles/PMC5...</td>\n",
              "      <td>NaN</td>\n",
              "    </tr>\n",
              "    <tr>\n",
              "      <th>3</th>\n",
              "      <td>2b73a28n</td>\n",
              "      <td>348055649b6b8cf2b9a376498df9bf41f7123605</td>\n",
              "      <td>PMC</td>\n",
              "      <td>Role of endothelin-1 in lung disease</td>\n",
              "      <td>10.1186/rr44</td>\n",
              "      <td>PMC59574</td>\n",
              "      <td>11686871</td>\n",
              "      <td>no-cc</td>\n",
              "      <td>Endothelin-1 (ET-1) is a 21 amino acid peptide...</td>\n",
              "      <td>2001-02-22</td>\n",
              "      <td>Fagan, Karen A; McMurtry, Ivan F; Rodman, David M</td>\n",
              "      <td>Respir Res</td>\n",
              "      <td>NaN</td>\n",
              "      <td>NaN</td>\n",
              "      <td>NaN</td>\n",
              "      <td>document_parses/pdf_json/348055649b6b8cf2b9a37...</td>\n",
              "      <td>document_parses/pmc_json/PMC59574.xml.json</td>\n",
              "      <td>https://www.ncbi.nlm.nih.gov/pmc/articles/PMC5...</td>\n",
              "      <td>NaN</td>\n",
              "    </tr>\n",
              "    <tr>\n",
              "      <th>4</th>\n",
              "      <td>9785vg6d</td>\n",
              "      <td>5f48792a5fa08bed9f56016f4981ae2ca6031b32</td>\n",
              "      <td>PMC</td>\n",
              "      <td>Gene expression in epithelial cells in respons...</td>\n",
              "      <td>10.1186/rr61</td>\n",
              "      <td>PMC59580</td>\n",
              "      <td>11686888</td>\n",
              "      <td>no-cc</td>\n",
              "      <td>Respiratory syncytial virus (RSV) and pneumoni...</td>\n",
              "      <td>2001-05-11</td>\n",
              "      <td>Domachowske, Joseph B; Bonville, Cynthia A; Ro...</td>\n",
              "      <td>Respir Res</td>\n",
              "      <td>NaN</td>\n",
              "      <td>NaN</td>\n",
              "      <td>NaN</td>\n",
              "      <td>document_parses/pdf_json/5f48792a5fa08bed9f560...</td>\n",
              "      <td>document_parses/pmc_json/PMC59580.xml.json</td>\n",
              "      <td>https://www.ncbi.nlm.nih.gov/pmc/articles/PMC5...</td>\n",
              "      <td>NaN</td>\n",
              "    </tr>\n",
              "    <tr>\n",
              "      <th>5</th>\n",
              "      <td>zjufx4fo</td>\n",
              "      <td>b2897e1277f56641193a6db73825f707eed3e4c9</td>\n",
              "      <td>PMC</td>\n",
              "      <td>Sequence requirements for RNA strand transfer ...</td>\n",
              "      <td>10.1093/emboj/20.24.7220</td>\n",
              "      <td>PMC125340</td>\n",
              "      <td>11742998</td>\n",
              "      <td>green-oa</td>\n",
              "      <td>Nidovirus subgenomic mRNAs contain a leader se...</td>\n",
              "      <td>2001-12-17</td>\n",
              "      <td>Pasternak, Alexander O.; van den Born, Erwin; ...</td>\n",
              "      <td>The EMBO Journal</td>\n",
              "      <td>NaN</td>\n",
              "      <td>NaN</td>\n",
              "      <td>NaN</td>\n",
              "      <td>document_parses/pdf_json/b2897e1277f56641193a6...</td>\n",
              "      <td>document_parses/pmc_json/PMC125340.xml.json</td>\n",
              "      <td>http://europepmc.org/articles/pmc125340?pdf=re...</td>\n",
              "      <td>NaN</td>\n",
              "    </tr>\n",
              "    <tr>\n",
              "      <th>6</th>\n",
              "      <td>5yhe786e</td>\n",
              "      <td>3bb07ea10432f7738413dff9816809cc90f03f99</td>\n",
              "      <td>PMC</td>\n",
              "      <td>Debate: Transfusing to normal haemoglobin leve...</td>\n",
              "      <td>10.1186/cc987</td>\n",
              "      <td>PMC137267</td>\n",
              "      <td>11299062</td>\n",
              "      <td>no-cc</td>\n",
              "      <td>Recent evidence suggests that critically ill p...</td>\n",
              "      <td>2001-03-08</td>\n",
              "      <td>Alvarez, Gonzalo; Hébert, Paul C; Szick, Sharyn</td>\n",
              "      <td>Crit Care</td>\n",
              "      <td>NaN</td>\n",
              "      <td>NaN</td>\n",
              "      <td>NaN</td>\n",
              "      <td>document_parses/pdf_json/3bb07ea10432f7738413d...</td>\n",
              "      <td>document_parses/pmc_json/PMC137267.xml.json</td>\n",
              "      <td>https://www.ncbi.nlm.nih.gov/pmc/articles/PMC1...</td>\n",
              "      <td>NaN</td>\n",
              "    </tr>\n",
              "    <tr>\n",
              "      <th>7</th>\n",
              "      <td>8zchiykl</td>\n",
              "      <td>5806726a24dc91de3954001effbdffd7a82d54e2</td>\n",
              "      <td>PMC</td>\n",
              "      <td>The 21st International Symposium on Intensive ...</td>\n",
              "      <td>10.1186/cc1013</td>\n",
              "      <td>PMC137274</td>\n",
              "      <td>11353930</td>\n",
              "      <td>no-cc</td>\n",
              "      <td>The 21st International Symposium on Intensive ...</td>\n",
              "      <td>2001-05-02</td>\n",
              "      <td>Ball, Jonathan; Venn, Richard</td>\n",
              "      <td>Crit Care</td>\n",
              "      <td>NaN</td>\n",
              "      <td>NaN</td>\n",
              "      <td>NaN</td>\n",
              "      <td>document_parses/pdf_json/5806726a24dc91de39540...</td>\n",
              "      <td>document_parses/pmc_json/PMC137274.xml.json</td>\n",
              "      <td>https://www.ncbi.nlm.nih.gov/pmc/articles/PMC1...</td>\n",
              "      <td>NaN</td>\n",
              "    </tr>\n",
              "    <tr>\n",
              "      <th>8</th>\n",
              "      <td>8qnrcgnk</td>\n",
              "      <td>faaf1022ccfe93b032c5608097a53543ba24aedb</td>\n",
              "      <td>PMC</td>\n",
              "      <td>Heme oxygenase-1 and carbon monoxide in pulmon...</td>\n",
              "      <td>10.1186/1465-9921-4-7</td>\n",
              "      <td>PMC193681</td>\n",
              "      <td>12964953</td>\n",
              "      <td>no-cc</td>\n",
              "      <td>Heme oxygenase-1 (HO-1), an inducible stress p...</td>\n",
              "      <td>2003-08-07</td>\n",
              "      <td>Slebos, Dirk-Jan; Ryter, Stefan W; Choi, Augus...</td>\n",
              "      <td>Respir Res</td>\n",
              "      <td>NaN</td>\n",
              "      <td>NaN</td>\n",
              "      <td>NaN</td>\n",
              "      <td>document_parses/pdf_json/faaf1022ccfe93b032c56...</td>\n",
              "      <td>document_parses/pmc_json/PMC193681.xml.json</td>\n",
              "      <td>https://www.ncbi.nlm.nih.gov/pmc/articles/PMC1...</td>\n",
              "      <td>NaN</td>\n",
              "    </tr>\n",
              "    <tr>\n",
              "      <th>9</th>\n",
              "      <td>jg13scgo</td>\n",
              "      <td>5b44feca5d6ffaaeb66501fa84cc6dd44d06660a</td>\n",
              "      <td>PMC</td>\n",
              "      <td>Technical Description of RODS: A Real-time Pub...</td>\n",
              "      <td>10.1197/jamia.m1345</td>\n",
              "      <td>PMC212776</td>\n",
              "      <td>12807803</td>\n",
              "      <td>bronze-oa</td>\n",
              "      <td>This report describes the design and implement...</td>\n",
              "      <td>2003-09-01</td>\n",
              "      <td>Tsui, Fu-Chiang; Espino, Jeremy U.; Dato, Virg...</td>\n",
              "      <td>Journal of the American Medical Informatics As...</td>\n",
              "      <td>NaN</td>\n",
              "      <td>NaN</td>\n",
              "      <td>NaN</td>\n",
              "      <td>document_parses/pdf_json/5b44feca5d6ffaaeb6650...</td>\n",
              "      <td>document_parses/pmc_json/PMC212776.xml.json</td>\n",
              "      <td>https://academic.oup.com/jamia/article-pdf/10/...</td>\n",
              "      <td>NaN</td>\n",
              "    </tr>\n",
              "  </tbody>\n",
              "</table>\n",
              "</div>\n",
              "      <button class=\"colab-df-convert\" onclick=\"convertToInteractive('df-4bc00193-769b-42f0-a184-cc3db4a781b7')\"\n",
              "              title=\"Convert this dataframe to an interactive table.\"\n",
              "              style=\"display:none;\">\n",
              "\n",
              "  <svg xmlns=\"http://www.w3.org/2000/svg\" height=\"24px\"viewBox=\"0 0 24 24\"\n",
              "       width=\"24px\">\n",
              "    <path d=\"M0 0h24v24H0V0z\" fill=\"none\"/>\n",
              "    <path d=\"M18.56 5.44l.94 2.06.94-2.06 2.06-.94-2.06-.94-.94-2.06-.94 2.06-2.06.94zm-11 1L8.5 8.5l.94-2.06 2.06-.94-2.06-.94L8.5 2.5l-.94 2.06-2.06.94zm10 10l.94 2.06.94-2.06 2.06-.94-2.06-.94-.94-2.06-.94 2.06-2.06.94z\"/><path d=\"M17.41 7.96l-1.37-1.37c-.4-.4-.92-.59-1.43-.59-.52 0-1.04.2-1.43.59L10.3 9.45l-7.72 7.72c-.78.78-.78 2.05 0 2.83L4 21.41c.39.39.9.59 1.41.59.51 0 1.02-.2 1.41-.59l7.78-7.78 2.81-2.81c.8-.78.8-2.07 0-2.86zM5.41 20L4 18.59l7.72-7.72 1.47 1.35L5.41 20z\"/>\n",
              "  </svg>\n",
              "      </button>\n",
              "\n",
              "\n",
              "\n",
              "    <div id=\"df-875b3a52-fda6-4c46-82ce-3a86b82e3104\">\n",
              "      <button class=\"colab-df-quickchart\" onclick=\"quickchart('df-875b3a52-fda6-4c46-82ce-3a86b82e3104')\"\n",
              "              title=\"Suggest charts.\"\n",
              "              style=\"display:none;\">\n",
              "\n",
              "<svg xmlns=\"http://www.w3.org/2000/svg\" height=\"24px\"viewBox=\"0 0 24 24\"\n",
              "     width=\"24px\">\n",
              "    <g>\n",
              "        <path d=\"M19 3H5c-1.1 0-2 .9-2 2v14c0 1.1.9 2 2 2h14c1.1 0 2-.9 2-2V5c0-1.1-.9-2-2-2zM9 17H7v-7h2v7zm4 0h-2V7h2v10zm4 0h-2v-4h2v4z\"/>\n",
              "    </g>\n",
              "</svg>\n",
              "      </button>\n",
              "    </div>\n",
              "\n",
              "<style>\n",
              "  .colab-df-quickchart {\n",
              "    background-color: #E8F0FE;\n",
              "    border: none;\n",
              "    border-radius: 50%;\n",
              "    cursor: pointer;\n",
              "    display: none;\n",
              "    fill: #1967D2;\n",
              "    height: 32px;\n",
              "    padding: 0 0 0 0;\n",
              "    width: 32px;\n",
              "  }\n",
              "\n",
              "  .colab-df-quickchart:hover {\n",
              "    background-color: #E2EBFA;\n",
              "    box-shadow: 0px 1px 2px rgba(60, 64, 67, 0.3), 0px 1px 3px 1px rgba(60, 64, 67, 0.15);\n",
              "    fill: #174EA6;\n",
              "  }\n",
              "\n",
              "  [theme=dark] .colab-df-quickchart {\n",
              "    background-color: #3B4455;\n",
              "    fill: #D2E3FC;\n",
              "  }\n",
              "\n",
              "  [theme=dark] .colab-df-quickchart:hover {\n",
              "    background-color: #434B5C;\n",
              "    box-shadow: 0px 1px 3px 1px rgba(0, 0, 0, 0.15);\n",
              "    filter: drop-shadow(0px 1px 2px rgba(0, 0, 0, 0.3));\n",
              "    fill: #FFFFFF;\n",
              "  }\n",
              "</style>\n",
              "\n",
              "    <script>\n",
              "      async function quickchart(key) {\n",
              "        const containerElement = document.querySelector('#' + key);\n",
              "        const charts = await google.colab.kernel.invokeFunction(\n",
              "            'suggestCharts', [key], {});\n",
              "      }\n",
              "    </script>\n",
              "\n",
              "\n",
              "      <script>\n",
              "\n",
              "function displayQuickchartButton(domScope) {\n",
              "  let quickchartButtonEl =\n",
              "    domScope.querySelector('#df-875b3a52-fda6-4c46-82ce-3a86b82e3104 button.colab-df-quickchart');\n",
              "  quickchartButtonEl.style.display =\n",
              "    google.colab.kernel.accessAllowed ? 'block' : 'none';\n",
              "}\n",
              "\n",
              "        displayQuickchartButton(document);\n",
              "      </script>\n",
              "      <style>\n",
              "    .colab-df-container {\n",
              "      display:flex;\n",
              "      flex-wrap:wrap;\n",
              "      gap: 12px;\n",
              "    }\n",
              "\n",
              "    .colab-df-convert {\n",
              "      background-color: #E8F0FE;\n",
              "      border: none;\n",
              "      border-radius: 50%;\n",
              "      cursor: pointer;\n",
              "      display: none;\n",
              "      fill: #1967D2;\n",
              "      height: 32px;\n",
              "      padding: 0 0 0 0;\n",
              "      width: 32px;\n",
              "    }\n",
              "\n",
              "    .colab-df-convert:hover {\n",
              "      background-color: #E2EBFA;\n",
              "      box-shadow: 0px 1px 2px rgba(60, 64, 67, 0.3), 0px 1px 3px 1px rgba(60, 64, 67, 0.15);\n",
              "      fill: #174EA6;\n",
              "    }\n",
              "\n",
              "    [theme=dark] .colab-df-convert {\n",
              "      background-color: #3B4455;\n",
              "      fill: #D2E3FC;\n",
              "    }\n",
              "\n",
              "    [theme=dark] .colab-df-convert:hover {\n",
              "      background-color: #434B5C;\n",
              "      box-shadow: 0px 1px 3px 1px rgba(0, 0, 0, 0.15);\n",
              "      filter: drop-shadow(0px 1px 2px rgba(0, 0, 0, 0.3));\n",
              "      fill: #FFFFFF;\n",
              "    }\n",
              "  </style>\n",
              "\n",
              "      <script>\n",
              "        const buttonEl =\n",
              "          document.querySelector('#df-4bc00193-769b-42f0-a184-cc3db4a781b7 button.colab-df-convert');\n",
              "        buttonEl.style.display =\n",
              "          google.colab.kernel.accessAllowed ? 'block' : 'none';\n",
              "\n",
              "        async function convertToInteractive(key) {\n",
              "          const element = document.querySelector('#df-4bc00193-769b-42f0-a184-cc3db4a781b7');\n",
              "          const dataTable =\n",
              "            await google.colab.kernel.invokeFunction('convertToInteractive',\n",
              "                                                     [key], {});\n",
              "          if (!dataTable) return;\n",
              "\n",
              "          const docLinkHtml = 'Like what you see? Visit the ' +\n",
              "            '<a target=\"_blank\" href=https://colab.research.google.com/notebooks/data_table.ipynb>data table notebook</a>'\n",
              "            + ' to learn more about interactive tables.';\n",
              "          element.innerHTML = '';\n",
              "          dataTable['output_type'] = 'display_data';\n",
              "          await google.colab.output.renderOutput(dataTable, element);\n",
              "          const docLink = document.createElement('div');\n",
              "          docLink.innerHTML = docLinkHtml;\n",
              "          element.appendChild(docLink);\n",
              "        }\n",
              "      </script>\n",
              "    </div>\n",
              "  </div>\n"
            ]
          },
          "metadata": {},
          "execution_count": 4
        }
      ]
    },
    {
      "cell_type": "code",
      "source": [
        "df.describe()"
      ],
      "metadata": {
        "colab": {
          "base_uri": "https://localhost:8080/",
          "height": 300
        },
        "id": "jfOvkI6RxHpn",
        "outputId": "a40f221a-a238-40d2-ac23-8930ea304ae8"
      },
      "execution_count": 5,
      "outputs": [
        {
          "output_type": "execute_result",
          "data": {
            "text/plain": [
              "       mag_id         s2_id\n",
              "count     0.0  9.764680e+05\n",
              "mean      NaN  2.175871e+08\n",
              "std       NaN  5.312281e+07\n",
              "min       NaN  9.600000e+01\n",
              "25%       NaN  2.211411e+08\n",
              "50%       NaN  2.320829e+08\n",
              "75%       NaN  2.373948e+08\n",
              "max       NaN  2.491936e+08"
            ],
            "text/html": [
              "\n",
              "\n",
              "  <div id=\"df-694ba6ef-ca77-4c5d-ae8a-6f6a2f5b0116\">\n",
              "    <div class=\"colab-df-container\">\n",
              "      <div>\n",
              "<style scoped>\n",
              "    .dataframe tbody tr th:only-of-type {\n",
              "        vertical-align: middle;\n",
              "    }\n",
              "\n",
              "    .dataframe tbody tr th {\n",
              "        vertical-align: top;\n",
              "    }\n",
              "\n",
              "    .dataframe thead th {\n",
              "        text-align: right;\n",
              "    }\n",
              "</style>\n",
              "<table border=\"1\" class=\"dataframe\">\n",
              "  <thead>\n",
              "    <tr style=\"text-align: right;\">\n",
              "      <th></th>\n",
              "      <th>mag_id</th>\n",
              "      <th>s2_id</th>\n",
              "    </tr>\n",
              "  </thead>\n",
              "  <tbody>\n",
              "    <tr>\n",
              "      <th>count</th>\n",
              "      <td>0.0</td>\n",
              "      <td>9.764680e+05</td>\n",
              "    </tr>\n",
              "    <tr>\n",
              "      <th>mean</th>\n",
              "      <td>NaN</td>\n",
              "      <td>2.175871e+08</td>\n",
              "    </tr>\n",
              "    <tr>\n",
              "      <th>std</th>\n",
              "      <td>NaN</td>\n",
              "      <td>5.312281e+07</td>\n",
              "    </tr>\n",
              "    <tr>\n",
              "      <th>min</th>\n",
              "      <td>NaN</td>\n",
              "      <td>9.600000e+01</td>\n",
              "    </tr>\n",
              "    <tr>\n",
              "      <th>25%</th>\n",
              "      <td>NaN</td>\n",
              "      <td>2.211411e+08</td>\n",
              "    </tr>\n",
              "    <tr>\n",
              "      <th>50%</th>\n",
              "      <td>NaN</td>\n",
              "      <td>2.320829e+08</td>\n",
              "    </tr>\n",
              "    <tr>\n",
              "      <th>75%</th>\n",
              "      <td>NaN</td>\n",
              "      <td>2.373948e+08</td>\n",
              "    </tr>\n",
              "    <tr>\n",
              "      <th>max</th>\n",
              "      <td>NaN</td>\n",
              "      <td>2.491936e+08</td>\n",
              "    </tr>\n",
              "  </tbody>\n",
              "</table>\n",
              "</div>\n",
              "      <button class=\"colab-df-convert\" onclick=\"convertToInteractive('df-694ba6ef-ca77-4c5d-ae8a-6f6a2f5b0116')\"\n",
              "              title=\"Convert this dataframe to an interactive table.\"\n",
              "              style=\"display:none;\">\n",
              "\n",
              "  <svg xmlns=\"http://www.w3.org/2000/svg\" height=\"24px\"viewBox=\"0 0 24 24\"\n",
              "       width=\"24px\">\n",
              "    <path d=\"M0 0h24v24H0V0z\" fill=\"none\"/>\n",
              "    <path d=\"M18.56 5.44l.94 2.06.94-2.06 2.06-.94-2.06-.94-.94-2.06-.94 2.06-2.06.94zm-11 1L8.5 8.5l.94-2.06 2.06-.94-2.06-.94L8.5 2.5l-.94 2.06-2.06.94zm10 10l.94 2.06.94-2.06 2.06-.94-2.06-.94-.94-2.06-.94 2.06-2.06.94z\"/><path d=\"M17.41 7.96l-1.37-1.37c-.4-.4-.92-.59-1.43-.59-.52 0-1.04.2-1.43.59L10.3 9.45l-7.72 7.72c-.78.78-.78 2.05 0 2.83L4 21.41c.39.39.9.59 1.41.59.51 0 1.02-.2 1.41-.59l7.78-7.78 2.81-2.81c.8-.78.8-2.07 0-2.86zM5.41 20L4 18.59l7.72-7.72 1.47 1.35L5.41 20z\"/>\n",
              "  </svg>\n",
              "      </button>\n",
              "\n",
              "\n",
              "\n",
              "    <div id=\"df-720b51cf-275d-4935-96df-10c7dcd36a23\">\n",
              "      <button class=\"colab-df-quickchart\" onclick=\"quickchart('df-720b51cf-275d-4935-96df-10c7dcd36a23')\"\n",
              "              title=\"Suggest charts.\"\n",
              "              style=\"display:none;\">\n",
              "\n",
              "<svg xmlns=\"http://www.w3.org/2000/svg\" height=\"24px\"viewBox=\"0 0 24 24\"\n",
              "     width=\"24px\">\n",
              "    <g>\n",
              "        <path d=\"M19 3H5c-1.1 0-2 .9-2 2v14c0 1.1.9 2 2 2h14c1.1 0 2-.9 2-2V5c0-1.1-.9-2-2-2zM9 17H7v-7h2v7zm4 0h-2V7h2v10zm4 0h-2v-4h2v4z\"/>\n",
              "    </g>\n",
              "</svg>\n",
              "      </button>\n",
              "    </div>\n",
              "\n",
              "<style>\n",
              "  .colab-df-quickchart {\n",
              "    background-color: #E8F0FE;\n",
              "    border: none;\n",
              "    border-radius: 50%;\n",
              "    cursor: pointer;\n",
              "    display: none;\n",
              "    fill: #1967D2;\n",
              "    height: 32px;\n",
              "    padding: 0 0 0 0;\n",
              "    width: 32px;\n",
              "  }\n",
              "\n",
              "  .colab-df-quickchart:hover {\n",
              "    background-color: #E2EBFA;\n",
              "    box-shadow: 0px 1px 2px rgba(60, 64, 67, 0.3), 0px 1px 3px 1px rgba(60, 64, 67, 0.15);\n",
              "    fill: #174EA6;\n",
              "  }\n",
              "\n",
              "  [theme=dark] .colab-df-quickchart {\n",
              "    background-color: #3B4455;\n",
              "    fill: #D2E3FC;\n",
              "  }\n",
              "\n",
              "  [theme=dark] .colab-df-quickchart:hover {\n",
              "    background-color: #434B5C;\n",
              "    box-shadow: 0px 1px 3px 1px rgba(0, 0, 0, 0.15);\n",
              "    filter: drop-shadow(0px 1px 2px rgba(0, 0, 0, 0.3));\n",
              "    fill: #FFFFFF;\n",
              "  }\n",
              "</style>\n",
              "\n",
              "    <script>\n",
              "      async function quickchart(key) {\n",
              "        const containerElement = document.querySelector('#' + key);\n",
              "        const charts = await google.colab.kernel.invokeFunction(\n",
              "            'suggestCharts', [key], {});\n",
              "      }\n",
              "    </script>\n",
              "\n",
              "\n",
              "      <script>\n",
              "\n",
              "function displayQuickchartButton(domScope) {\n",
              "  let quickchartButtonEl =\n",
              "    domScope.querySelector('#df-720b51cf-275d-4935-96df-10c7dcd36a23 button.colab-df-quickchart');\n",
              "  quickchartButtonEl.style.display =\n",
              "    google.colab.kernel.accessAllowed ? 'block' : 'none';\n",
              "}\n",
              "\n",
              "        displayQuickchartButton(document);\n",
              "      </script>\n",
              "      <style>\n",
              "    .colab-df-container {\n",
              "      display:flex;\n",
              "      flex-wrap:wrap;\n",
              "      gap: 12px;\n",
              "    }\n",
              "\n",
              "    .colab-df-convert {\n",
              "      background-color: #E8F0FE;\n",
              "      border: none;\n",
              "      border-radius: 50%;\n",
              "      cursor: pointer;\n",
              "      display: none;\n",
              "      fill: #1967D2;\n",
              "      height: 32px;\n",
              "      padding: 0 0 0 0;\n",
              "      width: 32px;\n",
              "    }\n",
              "\n",
              "    .colab-df-convert:hover {\n",
              "      background-color: #E2EBFA;\n",
              "      box-shadow: 0px 1px 2px rgba(60, 64, 67, 0.3), 0px 1px 3px 1px rgba(60, 64, 67, 0.15);\n",
              "      fill: #174EA6;\n",
              "    }\n",
              "\n",
              "    [theme=dark] .colab-df-convert {\n",
              "      background-color: #3B4455;\n",
              "      fill: #D2E3FC;\n",
              "    }\n",
              "\n",
              "    [theme=dark] .colab-df-convert:hover {\n",
              "      background-color: #434B5C;\n",
              "      box-shadow: 0px 1px 3px 1px rgba(0, 0, 0, 0.15);\n",
              "      filter: drop-shadow(0px 1px 2px rgba(0, 0, 0, 0.3));\n",
              "      fill: #FFFFFF;\n",
              "    }\n",
              "  </style>\n",
              "\n",
              "      <script>\n",
              "        const buttonEl =\n",
              "          document.querySelector('#df-694ba6ef-ca77-4c5d-ae8a-6f6a2f5b0116 button.colab-df-convert');\n",
              "        buttonEl.style.display =\n",
              "          google.colab.kernel.accessAllowed ? 'block' : 'none';\n",
              "\n",
              "        async function convertToInteractive(key) {\n",
              "          const element = document.querySelector('#df-694ba6ef-ca77-4c5d-ae8a-6f6a2f5b0116');\n",
              "          const dataTable =\n",
              "            await google.colab.kernel.invokeFunction('convertToInteractive',\n",
              "                                                     [key], {});\n",
              "          if (!dataTable) return;\n",
              "\n",
              "          const docLinkHtml = 'Like what you see? Visit the ' +\n",
              "            '<a target=\"_blank\" href=https://colab.research.google.com/notebooks/data_table.ipynb>data table notebook</a>'\n",
              "            + ' to learn more about interactive tables.';\n",
              "          element.innerHTML = '';\n",
              "          dataTable['output_type'] = 'display_data';\n",
              "          await google.colab.output.renderOutput(dataTable, element);\n",
              "          const docLink = document.createElement('div');\n",
              "          docLink.innerHTML = docLinkHtml;\n",
              "          element.appendChild(docLink);\n",
              "        }\n",
              "      </script>\n",
              "    </div>\n",
              "  </div>\n"
            ]
          },
          "metadata": {},
          "execution_count": 5
        }
      ]
    },
    {
      "cell_type": "code",
      "source": [
        "df.columns"
      ],
      "metadata": {
        "colab": {
          "base_uri": "https://localhost:8080/"
        },
        "id": "_nFRie__tRpw",
        "outputId": "48f9021e-9c8e-47b5-900b-be1280630315"
      },
      "execution_count": 6,
      "outputs": [
        {
          "output_type": "execute_result",
          "data": {
            "text/plain": [
              "Index(['cord_uid', 'sha', 'source_x', 'title', 'doi', 'pmcid', 'pubmed_id',\n",
              "       'license', 'abstract', 'publish_time', 'authors', 'journal', 'mag_id',\n",
              "       'who_covidence_id', 'arxiv_id', 'pdf_json_files', 'pmc_json_files',\n",
              "       'url', 's2_id'],\n",
              "      dtype='object')"
            ]
          },
          "metadata": {},
          "execution_count": 6
        }
      ]
    },
    {
      "cell_type": "code",
      "source": [
        "df.info()"
      ],
      "metadata": {
        "colab": {
          "base_uri": "https://localhost:8080/"
        },
        "id": "lqSmGLVotVf3",
        "outputId": "3b17eb9d-0676-4a4c-9411-e82193ac9d4f"
      },
      "execution_count": 7,
      "outputs": [
        {
          "output_type": "stream",
          "name": "stdout",
          "text": [
            "<class 'pandas.core.frame.DataFrame'>\n",
            "RangeIndex: 1056660 entries, 0 to 1056659\n",
            "Data columns (total 19 columns):\n",
            " #   Column            Non-Null Count    Dtype  \n",
            "---  ------            --------------    -----  \n",
            " 0   cord_uid          1056660 non-null  object \n",
            " 1   sha               373766 non-null   object \n",
            " 2   source_x          1056660 non-null  object \n",
            " 3   title             1056157 non-null  object \n",
            " 4   doi               656780 non-null   object \n",
            " 5   pmcid             389571 non-null   object \n",
            " 6   pubmed_id         498932 non-null   object \n",
            " 7   license           1056660 non-null  object \n",
            " 8   abstract          821118 non-null   object \n",
            " 9   publish_time      1054846 non-null  object \n",
            " 10  authors           1032791 non-null  object \n",
            " 11  journal           969338 non-null   object \n",
            " 12  mag_id            0 non-null        float64\n",
            " 13  who_covidence_id  482935 non-null   object \n",
            " 14  arxiv_id          14249 non-null    object \n",
            " 15  pdf_json_files    373766 non-null   object \n",
            " 16  pmc_json_files    315742 non-null   object \n",
            " 17  url               686934 non-null   object \n",
            " 18  s2_id             976468 non-null   float64\n",
            "dtypes: float64(2), object(17)\n",
            "memory usage: 153.2+ MB\n"
          ]
        }
      ]
    },
    {
      "cell_type": "code",
      "source": [
        "# Counting the number of rows in the file\n",
        "! wc -l /content/2022-06-02/metadata.csv"
      ],
      "metadata": {
        "colab": {
          "base_uri": "https://localhost:8080/"
        },
        "id": "3xQYPbtTtd6R",
        "outputId": "cd15aa65-1c2b-4867-8edd-e3afade8f66e"
      },
      "execution_count": 8,
      "outputs": [
        {
          "output_type": "stream",
          "name": "stdout",
          "text": [
            "1056661 /content/2022-06-02/metadata.csv\n"
          ]
        }
      ]
    },
    {
      "cell_type": "code",
      "source": [
        "import pyarrow.csv as pv\n",
        "import pyarrow.parquet as pq\n",
        "import gc\n",
        "\n",
        "data_file = [\n",
        "            '/content/2022-06-02/metadata.csv'\n",
        "          ]\n",
        "\n",
        "\n",
        "for data in data_file:\n",
        "  table = pv.read_csv(data)\n",
        "  pq.write_table(table, data.replace('csv', 'parquet'))\n",
        "  del table\n",
        "  gc.collect()\n",
        "  gc.collect()\n",
        "  gc.collect()\n",
        "\n",
        "  print('INFO: Chunk CSV {} converted to PARQUET'.format(data))\n",
        "\n",
        "print('INFO: CSV files converted to PARQUET')"
      ],
      "metadata": {
        "colab": {
          "base_uri": "https://localhost:8080/"
        },
        "id": "4hWqYKcIiJkO",
        "outputId": "c85ae342-351d-4731-a075-1d10750273ce"
      },
      "execution_count": 9,
      "outputs": [
        {
          "output_type": "stream",
          "name": "stdout",
          "text": [
            "INFO: Chunk CSV /content/2022-06-02/metadata.csv converted to PARQUET\n",
            "INFO: CSV files converted to PARQUET\n"
          ]
        }
      ]
    },
    {
      "cell_type": "markdown",
      "source": [
        "# Install dependencies\n"
      ],
      "metadata": {
        "id": "VvZkXuvYoV3r"
      }
    },
    {
      "cell_type": "code",
      "source": [
        "\n",
        "!apt-get install openjdk-8-jdk-headless -qq > /dev/null\n",
        "!wget -q http://archive.apache.org/dist/spark/spark-3.1.2/spark-3.1.2-bin-hadoop3.2.tgz\n",
        "!tar -xzf spark-3.1.2-bin-hadoop3.2.tgz\n",
        "!mv spark-3.1.2-bin-hadoop3.2.tgz /opt/spark-3.1.2\n",
        "!pip install -q findspark\n",
        "!pip install pyspark==3.1.2\n",
        "!ln -sf /opt/spark-3.1.2 /opt/spark\n",
        "!export SPARK_HOME=/opt/spark\n",
        "!export PATH=$SPARK_HOME/bin:$PATH"
      ],
      "metadata": {
        "colab": {
          "base_uri": "https://localhost:8080/"
        },
        "id": "eCpRyl8djYYv",
        "outputId": "609bbc54-7891-47c2-9d05-5adf4c131bfb"
      },
      "execution_count": 13,
      "outputs": [
        {
          "output_type": "stream",
          "name": "stdout",
          "text": [
            "Requirement already satisfied: pyspark==3.1.2 in /usr/local/lib/python3.10/dist-packages (3.1.2)\n",
            "Requirement already satisfied: py4j==0.10.9 in /usr/local/lib/python3.10/dist-packages (from pyspark==3.1.2) (0.10.9)\n"
          ]
        }
      ]
    },
    {
      "cell_type": "code",
      "source": [
        "from pyspark.sql import SparkSession\n",
        "from pyspark.sql import functions as f\n",
        "from pyspark.sql.functions import *\n",
        "from pyspark.sql.types import StringType, IntegerType\n",
        "import pyspark\n",
        "from pyspark import SparkContext\n",
        "from pyspark import SparkConf\n",
        "\n"
      ],
      "metadata": {
        "id": "-OymUP2ll8HM"
      },
      "execution_count": 14,
      "outputs": []
    },
    {
      "cell_type": "markdown",
      "source": [
        "# Create user"
      ],
      "metadata": {
        "id": "QLbkuHN3odds"
      }
    },
    {
      "cell_type": "code",
      "source": [
        "sc = SparkContext()\n",
        "spark = SparkSession.builder.getOrCreate()"
      ],
      "metadata": {
        "id": "ZwcsIw0bkRgi"
      },
      "execution_count": null,
      "outputs": []
    },
    {
      "cell_type": "markdown",
      "source": [
        "# Read file"
      ],
      "metadata": {
        "id": "iGhGMOpWolgp"
      }
    },
    {
      "cell_type": "code",
      "source": [
        "spark_Parquet = spark.read.parquet('/content/2022-06-02/metadata.parquet')"
      ],
      "metadata": {
        "id": "UjLgm_XMmvlR"
      },
      "execution_count": 15,
      "outputs": []
    },
    {
      "cell_type": "code",
      "source": [
        "spark_Parquet.dtypes"
      ],
      "metadata": {
        "colab": {
          "base_uri": "https://localhost:8080/"
        },
        "id": "j6wy1AnXm-gu",
        "outputId": "23e33705-2d8f-49af-d4e7-54091e5e206f"
      },
      "execution_count": 16,
      "outputs": [
        {
          "output_type": "execute_result",
          "data": {
            "text/plain": [
              "[('cord_uid', 'string'),\n",
              " ('sha', 'string'),\n",
              " ('source_x', 'string'),\n",
              " ('title', 'string'),\n",
              " ('doi', 'string'),\n",
              " ('pmcid', 'string'),\n",
              " ('pubmed_id', 'string'),\n",
              " ('license', 'string'),\n",
              " ('abstract', 'string'),\n",
              " ('publish_time', 'string'),\n",
              " ('authors', 'string'),\n",
              " ('journal', 'string'),\n",
              " ('mag_id', 'int'),\n",
              " ('who_covidence_id', 'string'),\n",
              " ('arxiv_id', 'string'),\n",
              " ('pdf_json_files', 'string'),\n",
              " ('pmc_json_files', 'string'),\n",
              " ('url', 'string'),\n",
              " ('s2_id', 'bigint')]"
            ]
          },
          "metadata": {},
          "execution_count": 16
        }
      ]
    },
    {
      "cell_type": "code",
      "source": [
        "spark_Parquet.columns\n"
      ],
      "metadata": {
        "colab": {
          "base_uri": "https://localhost:8080/"
        },
        "id": "FgE2t_M0oCsw",
        "outputId": "c326af17-0ba2-449e-bd16-c9830a5d92e9"
      },
      "execution_count": 17,
      "outputs": [
        {
          "output_type": "execute_result",
          "data": {
            "text/plain": [
              "['cord_uid',\n",
              " 'sha',\n",
              " 'source_x',\n",
              " 'title',\n",
              " 'doi',\n",
              " 'pmcid',\n",
              " 'pubmed_id',\n",
              " 'license',\n",
              " 'abstract',\n",
              " 'publish_time',\n",
              " 'authors',\n",
              " 'journal',\n",
              " 'mag_id',\n",
              " 'who_covidence_id',\n",
              " 'arxiv_id',\n",
              " 'pdf_json_files',\n",
              " 'pmc_json_files',\n",
              " 'url',\n",
              " 's2_id']"
            ]
          },
          "metadata": {},
          "execution_count": 17
        }
      ]
    },
    {
      "cell_type": "code",
      "source": [
        "\n",
        "from pyspark.sql.functions import countDistinct\n",
        "df_commercial_chains = spark_Parquet.select(countDistinct(\"authors\"))\n",
        "df_commercial_chains.show()"
      ],
      "metadata": {
        "colab": {
          "base_uri": "https://localhost:8080/"
        },
        "id": "Ml1IVZWjoJnZ",
        "outputId": "533f343c-014c-4a02-be49-8fd0ffe7e33f"
      },
      "execution_count": 18,
      "outputs": [
        {
          "output_type": "stream",
          "name": "stdout",
          "text": [
            "+-----------------------+\n",
            "|count(DISTINCT authors)|\n",
            "+-----------------------+\n",
            "|                 796660|\n",
            "+-----------------------+\n",
            "\n"
          ]
        }
      ]
    },
    {
      "cell_type": "code",
      "source": [],
      "metadata": {
        "id": "DHR7XjV0qdN1"
      },
      "execution_count": null,
      "outputs": []
    }
  ]
}